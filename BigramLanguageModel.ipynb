{
  "nbformat": 4,
  "nbformat_minor": 0,
  "metadata": {
    "colab": {
      "provenance": [],
      "gpuType": "T4"
    },
    "kernelspec": {
      "name": "python3",
      "display_name": "Python 3"
    },
    "language_info": {
      "name": "python"
    },
    "accelerator": "GPU"
  },
  "cells": [
    {
      "cell_type": "code",
      "source": [
        "import torch\n",
        "import torch.nn as nn\n",
        "import torch.nn.functional as F"
      ],
      "metadata": {
        "id": "TjKbc23ICfO1"
      },
      "execution_count": 1,
      "outputs": []
    },
    {
      "cell_type": "code",
      "source": [
        "# Hyperparameters\n",
        "batch_size = 32\n",
        "block_size = 8\n",
        "max_iters = 3000\n",
        "eval_interval = 300\n",
        "learning_rate = 1e-2\n",
        "device = 'cuda' if torch.cuda.is_available() else 'cpu'\n",
        "eval_iters = 200"
      ],
      "metadata": {
        "id": "XTjpEvCkzNht"
      },
      "execution_count": 2,
      "outputs": []
    },
    {
      "cell_type": "code",
      "source": [
        "device"
      ],
      "metadata": {
        "colab": {
          "base_uri": "https://localhost:8080/",
          "height": 36
        },
        "id": "AZheiKTEwYMp",
        "outputId": "f79fb14e-48e3-4f45-fada-4b121230d308"
      },
      "execution_count": 3,
      "outputs": [
        {
          "output_type": "execute_result",
          "data": {
            "text/plain": [
              "'cuda'"
            ],
            "application/vnd.google.colaboratory.intrinsic+json": {
              "type": "string"
            }
          },
          "metadata": {},
          "execution_count": 3
        }
      ]
    },
    {
      "cell_type": "code",
      "source": [
        "names = open('names.txt', 'r').read()\n",
        "len(names)"
      ],
      "metadata": {
        "colab": {
          "base_uri": "https://localhost:8080/"
        },
        "id": "XVlxYLTuzoj_",
        "outputId": "699ebcf5-fd49-4a4c-f5dc-08ec0378fa60"
      },
      "execution_count": 4,
      "outputs": [
        {
          "output_type": "execute_result",
          "data": {
            "text/plain": [
              "228145"
            ]
          },
          "metadata": {},
          "execution_count": 4
        }
      ]
    },
    {
      "cell_type": "code",
      "source": [
        "chars = sorted(list(set(names)))\n",
        "chars"
      ],
      "metadata": {
        "id": "QBwAjv3tzyoI",
        "colab": {
          "base_uri": "https://localhost:8080/"
        },
        "outputId": "6775aa99-2faa-4d90-e048-c9c0374f4e47"
      },
      "execution_count": 5,
      "outputs": [
        {
          "output_type": "execute_result",
          "data": {
            "text/plain": [
              "['\\n',\n",
              " 'a',\n",
              " 'b',\n",
              " 'c',\n",
              " 'd',\n",
              " 'e',\n",
              " 'f',\n",
              " 'g',\n",
              " 'h',\n",
              " 'i',\n",
              " 'j',\n",
              " 'k',\n",
              " 'l',\n",
              " 'm',\n",
              " 'n',\n",
              " 'o',\n",
              " 'p',\n",
              " 'q',\n",
              " 'r',\n",
              " 's',\n",
              " 't',\n",
              " 'u',\n",
              " 'v',\n",
              " 'w',\n",
              " 'x',\n",
              " 'y',\n",
              " 'z']"
            ]
          },
          "metadata": {},
          "execution_count": 5
        }
      ]
    },
    {
      "cell_type": "code",
      "source": [
        "vocab_size = len(chars)\n",
        "vocab_size"
      ],
      "metadata": {
        "colab": {
          "base_uri": "https://localhost:8080/"
        },
        "id": "HktCwOjt0Ypa",
        "outputId": "6a8f95bb-c6d4-42d1-9e56-403216860c41"
      },
      "execution_count": 6,
      "outputs": [
        {
          "output_type": "execute_result",
          "data": {
            "text/plain": [
              "27"
            ]
          },
          "metadata": {},
          "execution_count": 6
        }
      ]
    },
    {
      "cell_type": "code",
      "source": [
        "stoi = {ch:i for i, ch in enumerate(chars)}\n",
        "itos = {i:ch for i, ch in enumerate(chars)}\n",
        "\n",
        "encode = lambda s: [stoi[c] for c in s]\n",
        "decode = lambda l: ''.join([itos[i] for i in l])"
      ],
      "metadata": {
        "id": "ALUrQtYi0cMW"
      },
      "execution_count": 7,
      "outputs": []
    },
    {
      "cell_type": "code",
      "source": [
        "# Train and test split\n",
        "data = torch.tensor(encode(names), dtype=torch.long)\n",
        "n = int(0.9*len(data))\n",
        "\n",
        "train_data = data[:n]\n",
        "test_data = data[n:]"
      ],
      "metadata": {
        "id": "OvjHcM3p1OsT"
      },
      "execution_count": 8,
      "outputs": []
    },
    {
      "cell_type": "code",
      "source": [
        "def get_batch(train = True):\n",
        "    data = train_data if train else test_data\n",
        "    ix = torch.randint(len(data) - block_size, (batch_size,))\n",
        "\n",
        "    x = torch.stack([data[i:i+block_size] for i in ix])\n",
        "    y = torch.stack([data[i+1:i+block_size+1] for i in ix])\n",
        "\n",
        "    x, y = x.to(device), y.to(device)\n",
        "\n",
        "    return x, y"
      ],
      "metadata": {
        "id": "SD68m0lq1pVX"
      },
      "execution_count": 9,
      "outputs": []
    },
    {
      "cell_type": "code",
      "source": [
        "@torch.no_grad()\n",
        "def calculate_loss():\n",
        "    res = {}\n",
        "\n",
        "    model.eval()\n",
        "    for _mode in [1, 0]:\n",
        "        losses = torch.zeros(eval_iters)\n",
        "\n",
        "        for i in range(eval_iters):\n",
        "            X, Y = get_batch(train = bool(_mode))\n",
        "            logits, loss = model(X, Y)\n",
        "            losses[i] = loss.item()\n",
        "\n",
        "        res['train' if bool(_mode) else 'test'] = losses.mean()\n",
        "    model.train()\n",
        "\n",
        "    return res"
      ],
      "metadata": {
        "id": "iHbEeO2p5whA"
      },
      "execution_count": 10,
      "outputs": []
    },
    {
      "cell_type": "code",
      "source": [
        "# Bigram model\n",
        "class BigramLanguageModel(nn.Module):\n",
        "\n",
        "    def __init__(self, vocab_size):\n",
        "        super().__init__()\n",
        "\n",
        "        self.token_embedding_table = nn.Embedding(vocab_size, vocab_size)\n",
        "\n",
        "    def forward(self, idx, targets = None):\n",
        "        logits = self.token_embedding_table(idx)\n",
        "\n",
        "        if targets is None:\n",
        "            loss = None\n",
        "\n",
        "        else:\n",
        "            B, T, C = logits.shape\n",
        "            logits = logits.view(B * T, C)\n",
        "            targets = targets.view(B * T)\n",
        "\n",
        "            loss = F.cross_entropy(logits, targets)\n",
        "\n",
        "        return logits, loss\n",
        "\n",
        "    def generate(self, idx, max_tokens):\n",
        "        for _ in range(max_tokens):\n",
        "            logits, loss = self(idx)\n",
        "\n",
        "            logits = logits[:, -1, :]\n",
        "            probs = F.softmax(logits, dim = -1)\n",
        "            idx_next = torch.multinomial(probs, num_samples = 1)\n",
        "\n",
        "            idx = torch.cat((idx, idx_next), dim = 1)\n",
        "\n",
        "        return idx"
      ],
      "metadata": {
        "id": "djkIz7M46-Le"
      },
      "execution_count": 11,
      "outputs": []
    },
    {
      "cell_type": "code",
      "source": [
        "model = BigramLanguageModel(vocab_size)\n",
        "model = model.to(device)"
      ],
      "metadata": {
        "id": "_H47R5a5_Emi"
      },
      "execution_count": 12,
      "outputs": []
    },
    {
      "cell_type": "code",
      "source": [
        "from torch.optim import Adam\n",
        "\n",
        "optimizer = Adam(model.parameters(), lr=learning_rate)"
      ],
      "metadata": {
        "id": "-Z4eLp7O_K2g"
      },
      "execution_count": 13,
      "outputs": []
    },
    {
      "cell_type": "code",
      "source": [
        "# Training the model\n",
        "for i in range(max_iters):\n",
        "    if i % eval_interval == 0:\n",
        "        losses = calculate_loss()\n",
        "        print(f\"Step {i}: Train loss {losses['train']:.4f}, Test loss {losses['test']:.4f}\")\n",
        "\n",
        "    x, y = get_batch()\n",
        "    logits, loss = model(x, y)\n",
        "    optimizer.zero_grad(set_to_none = True)\n",
        "    loss.backward()\n",
        "    optimizer.step()"
      ],
      "metadata": {
        "colab": {
          "base_uri": "https://localhost:8080/"
        },
        "id": "ebDmoGHY_YLU",
        "outputId": "1afd1412-18ae-4142-8431-0e3854d20c67"
      },
      "execution_count": 14,
      "outputs": [
        {
          "output_type": "stream",
          "name": "stdout",
          "text": [
            "Step 0: Train loss 3.7598, Test loss 3.7689\n",
            "Step 300: Train loss 2.5678, Test loss 2.6948\n",
            "Step 600: Train loss 2.4623, Test loss 2.5908\n",
            "Step 900: Train loss 2.4510, Test loss 2.5800\n",
            "Step 1200: Train loss 2.4462, Test loss 2.5813\n",
            "Step 1500: Train loss 2.4410, Test loss 2.5917\n",
            "Step 1800: Train loss 2.4522, Test loss 2.5735\n",
            "Step 2100: Train loss 2.4437, Test loss 2.5814\n",
            "Step 2400: Train loss 2.4425, Test loss 2.5866\n",
            "Step 2700: Train loss 2.4416, Test loss 2.5773\n"
          ]
        }
      ]
    },
    {
      "cell_type": "code",
      "source": [
        "context = torch.zeros((1, 1), dtype=torch.long, device=device)\n",
        "output_names = decode(model.generate(context, max_tokens=500)[0].tolist())"
      ],
      "metadata": {
        "id": "mpi_o-6o_ejr"
      },
      "execution_count": 39,
      "outputs": []
    },
    {
      "cell_type": "code",
      "source": [
        "output_names"
      ],
      "metadata": {
        "id": "hm38Qr_uBm9E"
      },
      "execution_count": null,
      "outputs": []
    },
    {
      "cell_type": "code",
      "source": [
        "with open('output_names.txt', 'w') as f:\n",
        "    f.write(output_names)"
      ],
      "metadata": {
        "id": "wTHNDHkgx6qf"
      },
      "execution_count": 22,
      "outputs": []
    },
    {
      "cell_type": "code",
      "source": [],
      "metadata": {
        "id": "Zjz3oXfYyjqY"
      },
      "execution_count": null,
      "outputs": []
    }
  ]
}